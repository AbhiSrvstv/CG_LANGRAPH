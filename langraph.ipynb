{
 "cells": [
  {
   "cell_type": "code",
   "execution_count": 2,
   "metadata": {},
   "outputs": [],
   "source": [
    "from typing import Annotated\n",
    "\n",
    "from typing_extensions import TypedDict\n",
    "\n",
    "from langgraph.graph import StateGraph, START\n",
    "from langgraph.graph.message import add_messages\n",
    "\n",
    "\n",
    "class State(TypedDict):\n",
    "    # Messages have the type \"list\". The `add_messages` function\n",
    "    # in the annotation defines how this state key should be updated\n",
    "    # (in this case, it appends messages to the list, rather than overwriting them)\n",
    "    messages: Annotated[list, add_messages]\n",
    "\n",
    "\n",
    "graph_builder = StateGraph(State)"
   ]
  },
  {
   "cell_type": "code",
   "execution_count": 4,
   "metadata": {},
   "outputs": [
    {
     "name": "stdout",
     "output_type": "stream",
     "text": [
      "Requirement already satisfied: langchain[openai] in c:\\users\\abhishan\\onedrive - capgemini\\projects\\langgraph\\venv\\lib\\site-packages (0.3.25)\n",
      "Requirement already satisfied: langchain-core<1.0.0,>=0.3.58 in c:\\users\\abhishan\\onedrive - capgemini\\projects\\langgraph\\venv\\lib\\site-packages (from langchain[openai]) (0.3.65)\n",
      "Requirement already satisfied: langchain-text-splitters<1.0.0,>=0.3.8 in c:\\users\\abhishan\\onedrive - capgemini\\projects\\langgraph\\venv\\lib\\site-packages (from langchain[openai]) (0.3.8)\n",
      "Requirement already satisfied: langsmith<0.4,>=0.1.17 in c:\\users\\abhishan\\onedrive - capgemini\\projects\\langgraph\\venv\\lib\\site-packages (from langchain[openai]) (0.3.45)\n",
      "Requirement already satisfied: pydantic<3.0.0,>=2.7.4 in c:\\users\\abhishan\\onedrive - capgemini\\projects\\langgraph\\venv\\lib\\site-packages (from langchain[openai]) (2.11.7)\n",
      "Requirement already satisfied: SQLAlchemy<3,>=1.4 in c:\\users\\abhishan\\onedrive - capgemini\\projects\\langgraph\\venv\\lib\\site-packages (from langchain[openai]) (2.0.41)\n",
      "Requirement already satisfied: requests<3,>=2 in c:\\users\\abhishan\\onedrive - capgemini\\projects\\langgraph\\venv\\lib\\site-packages (from langchain[openai]) (2.32.4)\n",
      "Requirement already satisfied: PyYAML>=5.3 in c:\\users\\abhishan\\onedrive - capgemini\\projects\\langgraph\\venv\\lib\\site-packages (from langchain[openai]) (6.0.2)\n",
      "Requirement already satisfied: langchain-openai in c:\\users\\abhishan\\onedrive - capgemini\\projects\\langgraph\\venv\\lib\\site-packages (from langchain[openai]) (0.3.24)\n",
      "Requirement already satisfied: tenacity!=8.4.0,<10.0.0,>=8.1.0 in c:\\users\\abhishan\\onedrive - capgemini\\projects\\langgraph\\venv\\lib\\site-packages (from langchain-core<1.0.0,>=0.3.58->langchain[openai]) (9.1.2)\n",
      "Requirement already satisfied: jsonpatch<2.0,>=1.33 in c:\\users\\abhishan\\onedrive - capgemini\\projects\\langgraph\\venv\\lib\\site-packages (from langchain-core<1.0.0,>=0.3.58->langchain[openai]) (1.33)\n",
      "Requirement already satisfied: packaging<25,>=23.2 in c:\\users\\abhishan\\onedrive - capgemini\\projects\\langgraph\\venv\\lib\\site-packages (from langchain-core<1.0.0,>=0.3.58->langchain[openai]) (24.2)\n",
      "Requirement already satisfied: typing-extensions>=4.7 in c:\\users\\abhishan\\onedrive - capgemini\\projects\\langgraph\\venv\\lib\\site-packages (from langchain-core<1.0.0,>=0.3.58->langchain[openai]) (4.14.0)\n",
      "Requirement already satisfied: httpx<1,>=0.23.0 in c:\\users\\abhishan\\onedrive - capgemini\\projects\\langgraph\\venv\\lib\\site-packages (from langsmith<0.4,>=0.1.17->langchain[openai]) (0.28.1)\n",
      "Requirement already satisfied: orjson<4.0.0,>=3.9.14 in c:\\users\\abhishan\\onedrive - capgemini\\projects\\langgraph\\venv\\lib\\site-packages (from langsmith<0.4,>=0.1.17->langchain[openai]) (3.10.18)\n",
      "Requirement already satisfied: requests-toolbelt<2.0.0,>=1.0.0 in c:\\users\\abhishan\\onedrive - capgemini\\projects\\langgraph\\venv\\lib\\site-packages (from langsmith<0.4,>=0.1.17->langchain[openai]) (1.0.0)\n",
      "Requirement already satisfied: zstandard<0.24.0,>=0.23.0 in c:\\users\\abhishan\\onedrive - capgemini\\projects\\langgraph\\venv\\lib\\site-packages (from langsmith<0.4,>=0.1.17->langchain[openai]) (0.23.0)\n",
      "Requirement already satisfied: annotated-types>=0.6.0 in c:\\users\\abhishan\\onedrive - capgemini\\projects\\langgraph\\venv\\lib\\site-packages (from pydantic<3.0.0,>=2.7.4->langchain[openai]) (0.7.0)\n",
      "Requirement already satisfied: pydantic-core==2.33.2 in c:\\users\\abhishan\\onedrive - capgemini\\projects\\langgraph\\venv\\lib\\site-packages (from pydantic<3.0.0,>=2.7.4->langchain[openai]) (2.33.2)\n",
      "Requirement already satisfied: typing-inspection>=0.4.0 in c:\\users\\abhishan\\onedrive - capgemini\\projects\\langgraph\\venv\\lib\\site-packages (from pydantic<3.0.0,>=2.7.4->langchain[openai]) (0.4.1)\n",
      "Requirement already satisfied: charset_normalizer<4,>=2 in c:\\users\\abhishan\\onedrive - capgemini\\projects\\langgraph\\venv\\lib\\site-packages (from requests<3,>=2->langchain[openai]) (3.4.2)\n",
      "Requirement already satisfied: idna<4,>=2.5 in c:\\users\\abhishan\\onedrive - capgemini\\projects\\langgraph\\venv\\lib\\site-packages (from requests<3,>=2->langchain[openai]) (3.10)\n",
      "Requirement already satisfied: urllib3<3,>=1.21.1 in c:\\users\\abhishan\\onedrive - capgemini\\projects\\langgraph\\venv\\lib\\site-packages (from requests<3,>=2->langchain[openai]) (2.5.0)\n",
      "Requirement already satisfied: certifi>=2017.4.17 in c:\\users\\abhishan\\onedrive - capgemini\\projects\\langgraph\\venv\\lib\\site-packages (from requests<3,>=2->langchain[openai]) (2025.6.15)\n",
      "Requirement already satisfied: greenlet>=1 in c:\\users\\abhishan\\onedrive - capgemini\\projects\\langgraph\\venv\\lib\\site-packages (from SQLAlchemy<3,>=1.4->langchain[openai]) (3.2.3)\n",
      "Requirement already satisfied: openai<2.0.0,>=1.86.0 in c:\\users\\abhishan\\onedrive - capgemini\\projects\\langgraph\\venv\\lib\\site-packages (from langchain-openai->langchain[openai]) (1.88.0)\n",
      "Requirement already satisfied: tiktoken<1,>=0.7 in c:\\users\\abhishan\\onedrive - capgemini\\projects\\langgraph\\venv\\lib\\site-packages (from langchain-openai->langchain[openai]) (0.9.0)\n",
      "Requirement already satisfied: anyio in c:\\users\\abhishan\\onedrive - capgemini\\projects\\langgraph\\venv\\lib\\site-packages (from httpx<1,>=0.23.0->langsmith<0.4,>=0.1.17->langchain[openai]) (4.9.0)\n",
      "Requirement already satisfied: httpcore==1.* in c:\\users\\abhishan\\onedrive - capgemini\\projects\\langgraph\\venv\\lib\\site-packages (from httpx<1,>=0.23.0->langsmith<0.4,>=0.1.17->langchain[openai]) (1.0.9)\n",
      "Requirement already satisfied: h11>=0.16 in c:\\users\\abhishan\\onedrive - capgemini\\projects\\langgraph\\venv\\lib\\site-packages (from httpcore==1.*->httpx<1,>=0.23.0->langsmith<0.4,>=0.1.17->langchain[openai]) (0.16.0)\n",
      "Requirement already satisfied: jsonpointer>=1.9 in c:\\users\\abhishan\\onedrive - capgemini\\projects\\langgraph\\venv\\lib\\site-packages (from jsonpatch<2.0,>=1.33->langchain-core<1.0.0,>=0.3.58->langchain[openai]) (3.0.0)\n",
      "Requirement already satisfied: distro<2,>=1.7.0 in c:\\users\\abhishan\\onedrive - capgemini\\projects\\langgraph\\venv\\lib\\site-packages (from openai<2.0.0,>=1.86.0->langchain-openai->langchain[openai]) (1.9.0)\n",
      "Requirement already satisfied: jiter<1,>=0.4.0 in c:\\users\\abhishan\\onedrive - capgemini\\projects\\langgraph\\venv\\lib\\site-packages (from openai<2.0.0,>=1.86.0->langchain-openai->langchain[openai]) (0.10.0)\n",
      "Requirement already satisfied: sniffio in c:\\users\\abhishan\\onedrive - capgemini\\projects\\langgraph\\venv\\lib\\site-packages (from openai<2.0.0,>=1.86.0->langchain-openai->langchain[openai]) (1.3.1)\n",
      "Requirement already satisfied: tqdm>4 in c:\\users\\abhishan\\onedrive - capgemini\\projects\\langgraph\\venv\\lib\\site-packages (from openai<2.0.0,>=1.86.0->langchain-openai->langchain[openai]) (4.67.1)\n",
      "Requirement already satisfied: regex>=2022.1.18 in c:\\users\\abhishan\\onedrive - capgemini\\projects\\langgraph\\venv\\lib\\site-packages (from tiktoken<1,>=0.7->langchain-openai->langchain[openai]) (2024.11.6)\n",
      "Requirement already satisfied: colorama in c:\\users\\abhishan\\onedrive - capgemini\\projects\\langgraph\\venv\\lib\\site-packages (from tqdm>4->openai<2.0.0,>=1.86.0->langchain-openai->langchain[openai]) (0.4.6)\n",
      "Note: you may need to restart the kernel to use updated packages.\n"
     ]
    },
    {
     "name": "stderr",
     "output_type": "stream",
     "text": [
      "\n",
      "[notice] A new release of pip is available: 25.0.1 -> 25.1.1\n",
      "[notice] To update, run: python.exe -m pip install --upgrade pip\n"
     ]
    }
   ],
   "source": [
    "pip install -U \"langchain[openai]\""
   ]
  },
  {
   "cell_type": "code",
   "execution_count": 5,
   "metadata": {},
   "outputs": [
    {
     "ename": "KeyError",
     "evalue": "'AZURE_OPENAI_DEPLOYMENT_NAME'",
     "output_type": "error",
     "traceback": [
      "\u001b[31m---------------------------------------------------------------------------\u001b[39m",
      "\u001b[31mKeyError\u001b[39m                                  Traceback (most recent call last)",
      "\u001b[36mCell\u001b[39m\u001b[36m \u001b[39m\u001b[32mIn[5]\u001b[39m\u001b[32m, line 10\u001b[39m\n\u001b[32m      5\u001b[39m os.environ[\u001b[33m\"\u001b[39m\u001b[33mAZURE_OPENAI_ENDPOINT\u001b[39m\u001b[33m\"\u001b[39m] = \u001b[33m\"\u001b[39m\u001b[33mhttps://agentic-accelerator-pod-openai-we.openai.azure.com/\u001b[39m\u001b[33m\"\u001b[39m\n\u001b[32m      6\u001b[39m os.environ[\u001b[33m\"\u001b[39m\u001b[33mOPENAI_API_VERSION\u001b[39m\u001b[33m\"\u001b[39m] = \u001b[33m\"\u001b[39m\u001b[33m2024-12-01-preview\u001b[39m\u001b[33m\"\u001b[39m\n\u001b[32m      8\u001b[39m llm = init_chat_model(\n\u001b[32m      9\u001b[39m     \u001b[33m\"\u001b[39m\u001b[33mazure_openai:gpt-4o\u001b[39m\u001b[33m\"\u001b[39m,\n\u001b[32m---> \u001b[39m\u001b[32m10\u001b[39m     azure_deployment=\u001b[43mos\u001b[49m\u001b[43m.\u001b[49m\u001b[43menviron\u001b[49m\u001b[43m[\u001b[49m\u001b[33;43m\"\u001b[39;49m\u001b[33;43mAZURE_OPENAI_DEPLOYMENT_NAME\u001b[39;49m\u001b[33;43m\"\u001b[39;49m\u001b[43m]\u001b[49m,\n\u001b[32m     11\u001b[39m )\n",
      "\u001b[36mFile \u001b[39m\u001b[32m<frozen os>:714\u001b[39m, in \u001b[36m__getitem__\u001b[39m\u001b[34m(self, key)\u001b[39m\n",
      "\u001b[31mKeyError\u001b[39m: 'AZURE_OPENAI_DEPLOYMENT_NAME'"
     ]
    }
   ],
   "source": [
    "import os\n",
    "from langchain.chat_models import init_chat_model\n",
    "\n",
    "os.environ[\"AZURE_OPENAI_API_KEY\"] = \"1lOkjRo9bsDnbAE2v1qVagkmEj6mT111wak1spzwGQMDsqFoVT1aJQQJ99BDAC5RqLJXJ3w3AAABACOGNvwZ\"\n",
    "os.environ[\"AZURE_OPENAI_ENDPOINT\"] = \"https://agentic-accelerator-pod-openai-we.openai.azure.com/\"\n",
    "os.environ[\"OPENAI_API_VERSION\"] = \"2024-12-01-preview\"\n",
    "\n",
    "llm = init_chat_model(\n",
    "    \"azure_openai:gpt-4o\",\n",
    "    azure_deployment=os.environ[\"AZURE_OPENAI_DEPLOYMENT_NAME\"],\n",
    ")"
   ]
  }
 ],
 "metadata": {
  "kernelspec": {
   "display_name": "venv",
   "language": "python",
   "name": "python3"
  },
  "language_info": {
   "codemirror_mode": {
    "name": "ipython",
    "version": 3
   },
   "file_extension": ".py",
   "mimetype": "text/x-python",
   "name": "python",
   "nbconvert_exporter": "python",
   "pygments_lexer": "ipython3",
   "version": "3.12.10"
  }
 },
 "nbformat": 4,
 "nbformat_minor": 2
}
